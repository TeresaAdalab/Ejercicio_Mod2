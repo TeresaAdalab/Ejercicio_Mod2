{
 "cells": [
  {
   "cell_type": "markdown",
   "metadata": {},
   "source": [
    "1. Nombre, apellido y equipo de los jugadores."
   ]
  },
  {
   "cell_type": "code",
   "execution_count": 3,
   "metadata": {},
   "outputs": [],
   "source": [
    "# Importación de Librerias\n",
    "import requests\n",
    "import pandas as pd"
   ]
  },
  {
   "cell_type": "code",
   "execution_count": 4,
   "metadata": {},
   "outputs": [],
   "source": [
    "#Información de Jugadores\n",
    "\n",
    "api_key = \"aca568f2-e849-4335-97f0-fc379a1087a5\" #Api de la web\n",
    "\n",
    "jugadores={\"nombres\",\"apeliidos\",\"equipos\"} #Creamos un diccionario con 3 claves para almacenar la información de los juagdores\n",
    "res_jugadores = requests.get(f\"http://api.balldontlie.io/v1/players\", headers = {'Authorization': api_key}) # solicitud a la url\n"
   ]
  }
 ],
 "metadata": {
  "kernelspec": {
   "display_name": "base",
   "language": "python",
   "name": "python3"
  },
  "language_info": {
   "codemirror_mode": {
    "name": "ipython",
    "version": 3
   },
   "file_extension": ".py",
   "mimetype": "text/x-python",
   "name": "python",
   "nbconvert_exporter": "python",
   "pygments_lexer": "ipython3",
   "version": "3.9.7"
  }
 },
 "nbformat": 4,
 "nbformat_minor": 2
}
